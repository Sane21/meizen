{
  "nbformat": 4,
  "nbformat_minor": 0,
  "metadata": {
    "colab": {
      "private_outputs": true,
      "provenance": [],
      "authorship_tag": "ABX9TyN0/CkXeU6Lc7V6Od3fMszx",
      "include_colab_link": true
    },
    "kernelspec": {
      "name": "python3",
      "display_name": "Python 3"
    },
    "language_info": {
      "name": "python"
    }
  },
  "cells": [
    {
      "cell_type": "markdown",
      "metadata": {
        "id": "view-in-github",
        "colab_type": "text"
      },
      "source": [
        "<a href=\"https://colab.research.google.com/github/Sane21/meizen/blob/main/meizen_test.ipynb\" target=\"_parent\"><img src=\"https://colab.research.google.com/assets/colab-badge.svg\" alt=\"Open In Colab\"/></a>"
      ]
    },
    {
      "cell_type": "code",
      "execution_count": null,
      "metadata": {
        "id": "ntvOVAG82WA4"
      },
      "outputs": [],
      "source": [
        "!pip install git+https://github.com/sane21/meizen"
      ]
    },
    {
      "cell_type": "code",
      "source": [
        "import meizen"
      ],
      "metadata": {
        "id": "hTjlOODZ29um"
      },
      "execution_count": null,
      "outputs": []
    },
    {
      "cell_type": "markdown",
      "source": [
        "試作問題　大問3　問2"
      ],
      "metadata": {
        "id": "5D_SWrTJ3ggv"
      }
    },
    {
      "cell_type": "code",
      "source": [
        "%%writefile test1.dncl\n",
        "Kouka = [1,5,10,50,100]\n",
        "kingaku = 46\n",
        "maisu = 0\n",
        "nokori = kingaku\n",
        "i を 4 から 0 まで1ずつ減らしながら繰り返す:\n",
        "    maisu = maisu + nokori ÷ Kouka[i]\n",
        "    nokori = nokori %  Kouka[i]\n",
        "表示する(maisu)"
      ],
      "metadata": {
        "id": "kH9tUEvW3BX1"
      },
      "execution_count": null,
      "outputs": []
    },
    {
      "cell_type": "code",
      "source": [
        "meizen.make_run(\"./\",\"test1\")"
      ],
      "metadata": {
        "id": "8aDEkkKW3TD1"
      },
      "execution_count": null,
      "outputs": []
    },
    {
      "cell_type": "code",
      "source": [
        "!cat test1.py"
      ],
      "metadata": {
        "id": "hCQBhMjb7MEK"
      },
      "execution_count": null,
      "outputs": []
    },
    {
      "cell_type": "code",
      "source": [
        "!python3 test1.py"
      ],
      "metadata": {
        "id": "UWa8KEld3c0f"
      },
      "execution_count": null,
      "outputs": []
    },
    {
      "cell_type": "markdown",
      "source": [
        "試作問題　大問3　問3"
      ],
      "metadata": {
        "id": "77zqN5bh3nen"
      }
    },
    {
      "cell_type": "markdown",
      "source": [
        "問2で作成することになる枚数()を元から実装しておくのは不自然なので、関数を別ファイルで定義することで代替とする。"
      ],
      "metadata": {
        "id": "TECQyTqm4A8_"
      }
    },
    {
      "cell_type": "code",
      "source": [
        "%%writefile maisu.dncl\n",
        "関数 枚数(kingaku):\n",
        "    Kouka = [1,5,10,50,100]\n",
        "    maisu = 0\n",
        "    nokori = kingaku\n",
        "    i を 4 から 0 まで1ずつ減らしながら繰り返す:\n",
        "        maisu = maisu + nokori ÷ Kouka[i]\n",
        "        nokori = nokori % Kouka[i]\n",
        "    return maisu"
      ],
      "metadata": {
        "id": "N8HOEgkD3p1f"
      },
      "execution_count": null,
      "outputs": []
    },
    {
      "cell_type": "code",
      "source": [
        "meizen.make(\"./\",\"maisu\")"
      ],
      "metadata": {
        "id": "-L_6eliR3xWs"
      },
      "execution_count": null,
      "outputs": []
    },
    {
      "cell_type": "code",
      "source": [
        "!cat maisu.py"
      ],
      "metadata": {
        "id": "pPdF3khD7pNq"
      },
      "execution_count": null,
      "outputs": []
    },
    {
      "cell_type": "code",
      "source": [
        "%%writefile test2.dncl\n",
        "from maisu import 枚数\n",
        "\n",
        "kakaku = 46\n",
        "min_maisu = 100\n",
        "tsuri を 0 から 99 まで 1 ずつ増やしながら繰り返す:\n",
        "    shiharai = kakaku + tsuri\n",
        "    maisu = 枚数(shiharai) + 枚数(tsuri)\n",
        "    もし maisu < min_maisu ならば:\n",
        "        maisu = maisu\n",
        "表示する(maisu)"
      ],
      "metadata": {
        "id": "sfTwG8pf3-SE"
      },
      "execution_count": null,
      "outputs": []
    },
    {
      "cell_type": "code",
      "source": [
        "meizen.make_run(\"./\",\"test2\")"
      ],
      "metadata": {
        "id": "iN6-KagP4dO5"
      },
      "execution_count": null,
      "outputs": []
    },
    {
      "cell_type": "code",
      "source": [
        "!cat test2.py"
      ],
      "metadata": {
        "id": "IFS2Ij_w7x0x"
      },
      "execution_count": null,
      "outputs": []
    },
    {
      "cell_type": "code",
      "source": [
        "!python3 test2.py"
      ],
      "metadata": {
        "id": "uK0wpYSV4gwF"
      },
      "execution_count": null,
      "outputs": []
    }
  ]
}