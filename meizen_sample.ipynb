{
  "nbformat": 4,
  "nbformat_minor": 0,
  "metadata": {
    "colab": {
      "private_outputs": true,
      "provenance": [],
      "toc_visible": true
    },
    "kernelspec": {
      "name": "python3",
      "display_name": "Python 3"
    },
    "language_info": {
      "name": "python"
    }
  },
  "cells": [
    {
      "cell_type": "markdown",
      "source": [
        "GitHubから翻訳用のライブラリをインストールする"
      ],
      "metadata": {
        "id": "YQHmoy36_lBs"
      }
    },
    {
      "cell_type": "code",
      "execution_count": null,
      "metadata": {
        "id": "3f3McMZb5an7"
      },
      "outputs": [],
      "source": [
        "pip install git+https://github.com/Sane21/meizen.git"
      ]
    },
    {
      "cell_type": "markdown",
      "source": [
        "インストールしたライブラリを使用可能にする"
      ],
      "metadata": {
        "id": "KNvtTc5l_xFX"
      }
    },
    {
      "cell_type": "code",
      "source": [
        "import meizen"
      ],
      "metadata": {
        "id": "yeQRKsKk-WDt"
      },
      "execution_count": null,
      "outputs": []
    },
    {
      "cell_type": "markdown",
      "source": [
        "実行するためのファイルを記述する\n",
        "\n",
        "```\n",
        "%%write 任意のファイル名.dncl\n",
        "\n",
        "ファイルの内容\n",
        "```\n",
        "のコマンドで読み取り用のファイルを作成して書き込むことができる\n",
        "\n",
        "\n",
        "\n",
        "記述サンプル(令和７年度大学入学共通テスト 試作問題『情報Ⅰ』 大問3を参考)\n",
        "```\n",
        "Kouka = [1,5,10,50,100]\n",
        "kingaku = 46\n",
        "maisu = 0\n",
        "nokori = kingaku\n",
        "i を 1 から 5 まで1ずつ増やしながら繰り返す:\n",
        "    maisu = maisu + nokori\n",
        "    nokori = maisu % Kouka[i]\n",
        "表示する(maisu)\n",
        "```\n",
        "\n"
      ],
      "metadata": {
        "id": "lRq6E3d87w0J"
      }
    },
    {
      "cell_type": "code",
      "source": [
        "%%writefile sample.dncl\n",
        "Kouka = [1,5,10,50,100]\n",
        "kingaku = 46\n",
        "maisu = 0\n",
        "nokori = kingaku\n",
        "i を 4 から 0 まで1ずつ減らしながら繰り返す:\n",
        "    maisu = maisu + nokori ÷ Kouka[i]\n",
        "    nokori = nokori % Kouka[i]\n",
        "表示する(maisu)"
      ],
      "metadata": {
        "id": "6MRnnWbm7v7J"
      },
      "execution_count": null,
      "outputs": []
    },
    {
      "cell_type": "markdown",
      "source": [
        "翻訳する\n",
        "\n",
        "path はファイルの存在する場所を示す\n",
        "%%writeで指定なしに作成した場合、直下にあるので\"./\"\n",
        "\n",
        "filenameはファイルの名前を示す\n",
        "ここでは、%%write sample.dnclとしたため、\"sample\"となる\n",
        "拡張子は書かない"
      ],
      "metadata": {
        "id": "0q3qbaLYABLm"
      }
    },
    {
      "cell_type": "code",
      "source": [
        "meizen.make(path=\"./\", filename=\"sample\")"
      ],
      "metadata": {
        "id": "Sx3bFpjm-axm"
      },
      "execution_count": null,
      "outputs": []
    },
    {
      "cell_type": "markdown",
      "source": [
        "翻訳したファイルを実行する\n",
        "\n",
        "上のfilenameに\".py\"をつけて実行する\n",
        "\n",
        "```\n",
        "!python3 filename.py\n",
        "\n",
        "e.g. !python3 sample.py\n",
        "```"
      ],
      "metadata": {
        "id": "fHkZ6ZlSANUE"
      }
    },
    {
      "cell_type": "code",
      "source": [
        "!python3 sample.py"
      ],
      "metadata": {
        "id": "kBJ52MFSAD06"
      },
      "execution_count": null,
      "outputs": []
    },
    {
      "cell_type": "markdown",
      "source": [
        "記述したファイルを確認する"
      ],
      "metadata": {
        "id": "wqN3KnTVNCOt"
      }
    },
    {
      "cell_type": "code",
      "source": [
        "!cat sample.dncl"
      ],
      "metadata": {
        "id": "-NzFangDNEgc"
      },
      "execution_count": null,
      "outputs": []
    },
    {
      "cell_type": "markdown",
      "source": [
        "翻訳したファイルを確認する"
      ],
      "metadata": {
        "id": "piNeq_g4ASZI"
      }
    },
    {
      "cell_type": "code",
      "source": [
        "!cat sample.py"
      ],
      "metadata": {
        "id": "-8qdSoiCAVDj"
      },
      "execution_count": null,
      "outputs": []
    }
  ]
}