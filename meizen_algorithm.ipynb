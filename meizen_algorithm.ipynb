{
  "nbformat": 4,
  "nbformat_minor": 0,
  "metadata": {
    "colab": {
      "private_outputs": true,
      "provenance": [],
      "authorship_tag": "ABX9TyNFzq3FvUDTBlrJyYvfHDA0",
      "include_colab_link": true
    },
    "kernelspec": {
      "name": "python3",
      "display_name": "Python 3"
    },
    "language_info": {
      "name": "python"
    }
  },
  "cells": [
    {
      "cell_type": "markdown",
      "metadata": {
        "id": "view-in-github",
        "colab_type": "text"
      },
      "source": [
        "<a href=\"https://colab.research.google.com/github/Sane21/meizen/blob/main/meizen_algorithm.ipynb\" target=\"_parent\"><img src=\"https://colab.research.google.com/assets/colab-badge.svg\" alt=\"Open In Colab\"/></a>"
      ]
    },
    {
      "cell_type": "markdown",
      "source": [
        "試験のために複数のアルゴリズムをDNCLで技術し動作を確認してみる。\n",
        "\n",
        "探索アルゴリズム\n",
        "- 線形探索 逐次探索\n",
        "- 二分探索\n",
        "\n",
        "並び替えアルゴリズム\n",
        "- バブルソート\n",
        "- クイックソート\n",
        "- マージソート\n",
        "- 選択ソート セレクションソート\n",
        "- 挿入ソート インサーションソート\n",
        "- ヒープソート"
      ],
      "metadata": {
        "id": "3nampNtZtrRm"
      }
    },
    {
      "cell_type": "code",
      "source": [
        "!pip install git+https://github.com/sane21/meizen"
      ],
      "metadata": {
        "id": "FBHp1zqOocLb"
      },
      "execution_count": null,
      "outputs": []
    },
    {
      "cell_type": "code",
      "source": [
        "import meizen"
      ],
      "metadata": {
        "id": "9dk3IZD5ojeF"
      },
      "execution_count": null,
      "outputs": []
    },
    {
      "cell_type": "code",
      "source": [
        "%%writefile sequencial_search.dncl\n",
        "target = 5\n",
        "List = [0, 4, 5, 7, 8 ,9, 13]\n",
        "\n",
        "length = len(List)\n",
        "\n",
        "position = -1\n",
        "\n",
        "i を 0 から length-1 まで 1 ずつ増やしながら繰り返す:\n",
        "    もし List[i] == target ならば:\n",
        "        position = i\n",
        "        break\n",
        "\n",
        "message = \"対象は\"\n",
        "\n",
        "もし position < 0 ならば:\n",
        "    message += \"見つかりませんでした\"\n",
        "そうでなければ:\n",
        "    message += str(position) +\"番目にありました\"\n",
        "\n",
        "表示する(message)\n"
      ],
      "metadata": {
        "id": "ox5LXwD9oLkV"
      },
      "execution_count": null,
      "outputs": []
    },
    {
      "cell_type": "code",
      "source": [
        "meizen.make_run(\"./\", \"sequencial_search\")"
      ],
      "metadata": {
        "id": "4yho4i1BoX7c"
      },
      "execution_count": null,
      "outputs": []
    },
    {
      "cell_type": "code",
      "source": [
        "!cat sequencial_search.py"
      ],
      "metadata": {
        "id": "kXb7blGXsWN4"
      },
      "execution_count": null,
      "outputs": []
    },
    {
      "cell_type": "markdown",
      "source": [
        "二分探索"
      ],
      "metadata": {
        "id": "Blg6rRdLovAL"
      }
    },
    {
      "cell_type": "code",
      "source": [
        "%%writefile binary_search.dncl\n",
        "target = 5\n",
        "List = [0, 4, 5, 7, 8 ,9, 13]\n",
        "\n",
        "start_pos = 0\n",
        "end_pos = len(List) - 1\n",
        "\n",
        "pos = -1\n",
        "\n",
        "start_pos <= end_pos の間:\n",
        "    mid_pos = (start_pos + end_pos) ÷ 2\n",
        "    もし List[mid_pos] == target ならば:\n",
        "        pos = mid_pos\n",
        "        break\n",
        "    そうでなくもし List[mid_pos] < target ならば:\n",
        "        start_pos = mid_pos + 1\n",
        "    そうでなければ:\n",
        "        end_pos = mid_pos - 1\n",
        "\n",
        "msg = \"\"\n",
        "\n",
        "もし pos < 0 ならば:\n",
        "    msg = \"見つかりませんでした\"\n",
        "そうでなければ:\n",
        "    msg = str(pos) +\"番目にありました\"\n",
        "\n",
        "表示する(msg)"
      ],
      "metadata": {
        "id": "88I3w_HtjIo2"
      },
      "execution_count": null,
      "outputs": []
    },
    {
      "cell_type": "code",
      "source": [
        "meizen.make_run(path=\"./\", filename=\"binary_search\")"
      ],
      "metadata": {
        "id": "LSnI14GSrFUh"
      },
      "execution_count": null,
      "outputs": []
    },
    {
      "cell_type": "code",
      "source": [
        "!cat binary_search.py"
      ],
      "metadata": {
        "id": "zPn3B7EzrivT"
      },
      "execution_count": null,
      "outputs": []
    },
    {
      "cell_type": "code",
      "source": [
        "!python binary_search.py"
      ],
      "metadata": {
        "id": "ZcKfZlyTrxXD"
      },
      "execution_count": null,
      "outputs": []
    }
  ]
}